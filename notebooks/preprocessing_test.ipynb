{
 "cells": [
  {
   "cell_type": "markdown",
   "id": "a3f2e9b9",
   "metadata": {},
   "source": [
    "## Imports of functions that will help us clean the dataset"
   ]
  },
  {
   "cell_type": "code",
   "execution_count": 14,
   "id": "e9f5fe5d",
   "metadata": {},
   "outputs": [],
   "source": [
    "import sys\n",
    "\n",
    "sys.path.append(\"..\")\n",
    "\n",
    "from src import cleaning\n",
    "import pandas as pd\n",
    "from tqdm import tqdm\n",
    "from nltk.tokenize import word_tokenize"
   ]
  },
  {
   "cell_type": "markdown",
   "id": "f06018ad",
   "metadata": {},
   "source": [
    "Path to dataset subset with 100000 lines"
   ]
  },
  {
   "cell_type": "code",
   "execution_count": 16,
   "id": "e5f08fdb",
   "metadata": {},
   "outputs": [],
   "source": [
    "path = \"../data/raw/bigger_sample.csv\"\n",
    "\n",
    "df = pd.read_csv(\n",
    "    path,\n",
    "    sep=\";\",\n",
    "    usecols=[2, 3],\n",
    "    names=[\"commit_message\", \"is_bot\"],\n",
    "    encoding_errors=\"ignore\",\n",
    "    dtype=str,\n",
    ")"
   ]
  },
  {
   "cell_type": "code",
   "execution_count": 17,
   "id": "fb1a1c34",
   "metadata": {},
   "outputs": [
    {
     "data": {
      "text/html": [
       "<div>\n",
       "<style scoped>\n",
       "    .dataframe tbody tr th:only-of-type {\n",
       "        vertical-align: middle;\n",
       "    }\n",
       "\n",
       "    .dataframe tbody tr th {\n",
       "        vertical-align: top;\n",
       "    }\n",
       "\n",
       "    .dataframe thead th {\n",
       "        text-align: right;\n",
       "    }\n",
       "</style>\n",
       "<table border=\"1\" class=\"dataframe\">\n",
       "  <thead>\n",
       "    <tr style=\"text-align: right;\">\n",
       "      <th></th>\n",
       "      <th>commit_message</th>\n",
       "      <th>is_bot</th>\n",
       "    </tr>\n",
       "  </thead>\n",
       "  <tbody>\n",
       "    <tr>\n",
       "      <th>0</th>\n",
       "      <td>Initial AUR Archive commit of 'ros-hydro-roste...</td>\n",
       "      <td>BOT</td>\n",
       "    </tr>\n",
       "    <tr>\n",
       "      <th>1</th>\n",
       "      <td>fix(package): update gatsby-source-filesystem ...</td>\n",
       "      <td>BOT</td>\n",
       "    </tr>\n",
       "    <tr>\n",
       "      <th>2</th>\n",
       "      <td>docs(readme): add Greenkeeper badge</td>\n",
       "      <td>BOT</td>\n",
       "    </tr>\n",
       "    <tr>\n",
       "      <th>3</th>\n",
       "      <td>chore(deps): update dependency webpack to v4.1...</td>\n",
       "      <td>BOT</td>\n",
       "    </tr>\n",
       "    <tr>\n",
       "      <th>4</th>\n",
       "      <td>Update boto3 from 1.9.64 to 1.9.127</td>\n",
       "      <td>BOT</td>\n",
       "    </tr>\n",
       "    <tr>\n",
       "      <th>...</th>\n",
       "      <td>...</td>\n",
       "      <td>...</td>\n",
       "    </tr>\n",
       "    <tr>\n",
       "      <th>99995</th>\n",
       "      <td>version 0.2.5 - settings\\</td>\n",
       "      <td>NON-BOT</td>\n",
       "    </tr>\n",
       "    <tr>\n",
       "      <th>99996</th>\n",
       "      <td>Delete RD_jessie_4.jpg</td>\n",
       "      <td>NON-BOT</td>\n",
       "    </tr>\n",
       "    <tr>\n",
       "      <th>99997</th>\n",
       "      <td>save log in other database bug fix</td>\n",
       "      <td>NON-BOT</td>\n",
       "    </tr>\n",
       "    <tr>\n",
       "      <th>99998</th>\n",
       "      <td>Merge pull request #105 from neilvyas/patch-1\\...</td>\n",
       "      <td>NON-BOT</td>\n",
       "    </tr>\n",
       "    <tr>\n",
       "      <th>99999</th>\n",
       "      <td>Update config.properties</td>\n",
       "      <td>NON-BOT</td>\n",
       "    </tr>\n",
       "  </tbody>\n",
       "</table>\n",
       "<p>100000 rows × 2 columns</p>\n",
       "</div>"
      ],
      "text/plain": [
       "                                          commit_message   is_bot\n",
       "0      Initial AUR Archive commit of 'ros-hydro-roste...      BOT\n",
       "1      fix(package): update gatsby-source-filesystem ...      BOT\n",
       "2                    docs(readme): add Greenkeeper badge      BOT\n",
       "3      chore(deps): update dependency webpack to v4.1...      BOT\n",
       "4                    Update boto3 from 1.9.64 to 1.9.127      BOT\n",
       "...                                                  ...      ...\n",
       "99995                          version 0.2.5 - settings\\  NON-BOT\n",
       "99996                             Delete RD_jessie_4.jpg  NON-BOT\n",
       "99997                 save log in other database bug fix  NON-BOT\n",
       "99998  Merge pull request #105 from neilvyas/patch-1\\...  NON-BOT\n",
       "99999                           Update config.properties  NON-BOT\n",
       "\n",
       "[100000 rows x 2 columns]"
      ]
     },
     "execution_count": 17,
     "metadata": {},
     "output_type": "execute_result"
    }
   ],
   "source": [
    "df"
   ]
  },
  {
   "cell_type": "markdown",
   "id": "78a66421",
   "metadata": {},
   "source": [
    "Tested cleaning functions to remove line breaks, chinese/japanese characters, emojis and other weird stuff like ø"
   ]
  },
  {
   "cell_type": "code",
   "execution_count": 18,
   "id": "6d7eae9a",
   "metadata": {},
   "outputs": [
    {
     "name": "stderr",
     "output_type": "stream",
     "text": [
      "100%|███████████████████████████████████████████████████████████████████████████████████████████████████████| 100000/100000 [00:14<00:00, 7093.46it/s]\n"
     ]
    }
   ],
   "source": [
    "out = []\n",
    "for x in tqdm(df[\"commit_message\"]):\n",
    "    x = cleaning.replace_linebreaks(str(x))\n",
    "    x = cleaning.remove_emojis(x)\n",
    "    x = cleaning.replace_hash(x)\n",
    "    x = cleaning.alphanum(x)\n",
    "    if x:\n",
    "        out.append(\" \".join(word_tokenize(x)))\n",
    "    else:\n",
    "        out.append(None)\n",
    "df[\"commit_message\"] = out"
   ]
  },
  {
   "cell_type": "code",
   "execution_count": 19,
   "id": "f793530b",
   "metadata": {},
   "outputs": [
    {
     "data": {
      "text/html": [
       "<div>\n",
       "<style scoped>\n",
       "    .dataframe tbody tr th:only-of-type {\n",
       "        vertical-align: middle;\n",
       "    }\n",
       "\n",
       "    .dataframe tbody tr th {\n",
       "        vertical-align: top;\n",
       "    }\n",
       "\n",
       "    .dataframe thead th {\n",
       "        text-align: right;\n",
       "    }\n",
       "</style>\n",
       "<table border=\"1\" class=\"dataframe\">\n",
       "  <thead>\n",
       "    <tr style=\"text-align: right;\">\n",
       "      <th></th>\n",
       "      <th>commit_message</th>\n",
       "      <th>is_bot</th>\n",
       "    </tr>\n",
       "  </thead>\n",
       "  <tbody>\n",
       "    <tr>\n",
       "      <th>0</th>\n",
       "      <td>Initial AUR Archive commit of 'ros-hydro-roste...</td>\n",
       "      <td>BOT</td>\n",
       "    </tr>\n",
       "    <tr>\n",
       "      <th>1</th>\n",
       "      <td>fix ( package ) : update gatsby-source-filesys...</td>\n",
       "      <td>BOT</td>\n",
       "    </tr>\n",
       "    <tr>\n",
       "      <th>2</th>\n",
       "      <td>docs ( readme ) : add Greenkeeper badge</td>\n",
       "      <td>BOT</td>\n",
       "    </tr>\n",
       "    <tr>\n",
       "      <th>3</th>\n",
       "      <td>chore ( deps ) : update dependency webpack to ...</td>\n",
       "      <td>BOT</td>\n",
       "    </tr>\n",
       "    <tr>\n",
       "      <th>4</th>\n",
       "      <td>Update boto3 from 1.9.64 to 1.9.127</td>\n",
       "      <td>BOT</td>\n",
       "    </tr>\n",
       "    <tr>\n",
       "      <th>...</th>\n",
       "      <td>...</td>\n",
       "      <td>...</td>\n",
       "    </tr>\n",
       "    <tr>\n",
       "      <th>99995</th>\n",
       "      <td>version 0.2.5 - settings\\</td>\n",
       "      <td>NON-BOT</td>\n",
       "    </tr>\n",
       "    <tr>\n",
       "      <th>99996</th>\n",
       "      <td>Delete RD_jessie_4.jpg</td>\n",
       "      <td>NON-BOT</td>\n",
       "    </tr>\n",
       "    <tr>\n",
       "      <th>99997</th>\n",
       "      <td>save log in other database bug fix</td>\n",
       "      <td>NON-BOT</td>\n",
       "    </tr>\n",
       "    <tr>\n",
       "      <th>99998</th>\n",
       "      <td>Merge pull request # 105 from neilvyas/patch-1...</td>\n",
       "      <td>NON-BOT</td>\n",
       "    </tr>\n",
       "    <tr>\n",
       "      <th>99999</th>\n",
       "      <td>Update config.properties</td>\n",
       "      <td>NON-BOT</td>\n",
       "    </tr>\n",
       "  </tbody>\n",
       "</table>\n",
       "<p>97798 rows × 2 columns</p>\n",
       "</div>"
      ],
      "text/plain": [
       "                                          commit_message   is_bot\n",
       "0      Initial AUR Archive commit of 'ros-hydro-roste...      BOT\n",
       "1      fix ( package ) : update gatsby-source-filesys...      BOT\n",
       "2                docs ( readme ) : add Greenkeeper badge      BOT\n",
       "3      chore ( deps ) : update dependency webpack to ...      BOT\n",
       "4                    Update boto3 from 1.9.64 to 1.9.127      BOT\n",
       "...                                                  ...      ...\n",
       "99995                          version 0.2.5 - settings\\  NON-BOT\n",
       "99996                             Delete RD_jessie_4.jpg  NON-BOT\n",
       "99997                 save log in other database bug fix  NON-BOT\n",
       "99998  Merge pull request # 105 from neilvyas/patch-1...  NON-BOT\n",
       "99999                           Update config.properties  NON-BOT\n",
       "\n",
       "[97798 rows x 2 columns]"
      ]
     },
     "execution_count": 19,
     "metadata": {},
     "output_type": "execute_result"
    }
   ],
   "source": [
    "df.dropna(inplace=True)\n",
    "df"
   ]
  },
  {
   "cell_type": "markdown",
   "id": "b57b9f01",
   "metadata": {},
   "source": [
    "## Testing whether we can use Accuracy as a metric -- classes better be balanced"
   ]
  },
  {
   "cell_type": "code",
   "execution_count": 24,
   "id": "ae32409a",
   "metadata": {},
   "outputs": [
    {
     "data": {
      "text/plain": [
       "1.0293409694555113"
      ]
     },
     "execution_count": 24,
     "metadata": {},
     "output_type": "execute_result"
    }
   ],
   "source": [
    "sum(df[\"is_bot\"] == \"BOT\") / sum(df[\"is_bot\"] != \"BOT\")"
   ]
  },
  {
   "cell_type": "markdown",
   "id": "dec1a28a",
   "metadata": {},
   "source": [
    "classes are balanced, saving the preprocced data and copying the preprocessing script into the DataModule."
   ]
  },
  {
   "cell_type": "code",
   "execution_count": 20,
   "id": "e77ef9b0",
   "metadata": {},
   "outputs": [],
   "source": [
    "df.to_csv(\n",
    "    \"../data/processed/bigger_sample.csv\",\n",
    "    index=False,\n",
    ")"
   ]
  }
 ],
 "metadata": {
  "kernelspec": {
   "display_name": "Python 3",
   "language": "python",
   "name": "python3"
  },
  "language_info": {
   "codemirror_mode": {
    "name": "ipython",
    "version": 3
   },
   "file_extension": ".py",
   "mimetype": "text/x-python",
   "name": "python",
   "nbconvert_exporter": "python",
   "pygments_lexer": "ipython3",
   "version": "3.9.12"
  }
 },
 "nbformat": 4,
 "nbformat_minor": 5
}
